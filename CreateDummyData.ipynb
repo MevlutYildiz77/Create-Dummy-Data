{
 "cells": [
  {
   "attachments": {},
   "cell_type": "markdown",
   "metadata": {},
   "source": [
    "https://faker.readthedocs.io/en/master/index.html"
   ]
  },
  {
   "cell_type": "code",
   "execution_count": 19,
   "metadata": {},
   "outputs": [
    {
     "name": "stdout",
     "output_type": "stream",
     "text": [
      "Requirement already satisfied: faker in c:\\users\\toshiba\\anaconda3\\envs\\pythonproject\\lib\\site-packages (18.10.1)\n",
      "Requirement already satisfied: python-dateutil>=2.4 in c:\\users\\toshiba\\anaconda3\\envs\\pythonproject\\lib\\site-packages (from faker) (2.8.2)\n",
      "Requirement already satisfied: six>=1.5 in c:\\users\\toshiba\\anaconda3\\envs\\pythonproject\\lib\\site-packages (from python-dateutil>=2.4->faker) (1.16.0)\n",
      "Note: you may need to restart the kernel to use updated packages.\n"
     ]
    }
   ],
   "source": [
    "pip install faker"
   ]
  },
  {
   "cell_type": "code",
   "execution_count": 20,
   "metadata": {},
   "outputs": [],
   "source": [
    "from faker import Faker\n",
    "import pandas as pd"
   ]
  },
  {
   "cell_type": "code",
   "execution_count": 21,
   "metadata": {},
   "outputs": [
    {
     "name": "stdout",
     "output_type": "stream",
     "text": [
      "2003-01-25\n"
     ]
    }
   ],
   "source": [
    "fake = Faker()\n",
    "print(fake.date())\n"
   ]
  },
  {
   "cell_type": "code",
   "execution_count": 22,
   "metadata": {},
   "outputs": [],
   "source": [
    "Faker.seed(0)\n",
    "for _ in range(5):\n",
    "    fake.random_digit()"
   ]
  },
  {
   "cell_type": "code",
   "execution_count": 23,
   "metadata": {},
   "outputs": [],
   "source": [
    "Faker.seed(0)\n",
    "for _ in range(5):\n",
    "    fake.random_digit_not_null()"
   ]
  },
  {
   "cell_type": "code",
   "execution_count": 24,
   "metadata": {},
   "outputs": [],
   "source": [
    "Faker.seed(0)\n",
    ">>> for _ in range(5):\n",
    "...     fake.random_int(min=0, max=15)"
   ]
  },
  {
   "cell_type": "code",
   "execution_count": 25,
   "metadata": {},
   "outputs": [],
   "source": [
    "Faker.seed(0)\n",
    ">>> for _ in range(5):\n",
    "...     fake.random_int(min=0, max=15, step=3)"
   ]
  },
  {
   "cell_type": "code",
   "execution_count": 26,
   "metadata": {},
   "outputs": [],
   "source": [
    "Faker.seed(0)\n",
    ">>> for _ in range(5):\n",
    "...     fake.random_number(fix_len=False)"
   ]
  },
  {
   "cell_type": "code",
   "execution_count": 27,
   "metadata": {},
   "outputs": [],
   "source": [
    "Faker.seed(0)\n",
    ">>> for _ in range(5):\n",
    "...     fake.random_number(digits=3)"
   ]
  },
  {
   "cell_type": "code",
   "execution_count": 28,
   "metadata": {},
   "outputs": [],
   "source": [
    "Faker.seed(0)\n",
    ">>> for _ in range(5):\n",
    "...     fake.random_number(digits=3, fix_len=True)"
   ]
  },
  {
   "cell_type": "code",
   "execution_count": 29,
   "metadata": {},
   "outputs": [],
   "source": [
    "Faker.seed(0)\n",
    ">>> for _ in range(5):\n",
    "...     fake.randomize_nb_elements(number=100)"
   ]
  },
  {
   "cell_type": "code",
   "execution_count": 30,
   "metadata": {},
   "outputs": [],
   "source": [
    "Faker.seed(0)\n",
    ">>> for _ in range(5):\n",
    "...     fake.randomize_nb_elements(number=100, ge=True)"
   ]
  },
  {
   "cell_type": "code",
   "execution_count": 31,
   "metadata": {},
   "outputs": [],
   "source": [
    "Faker.seed(0)\n",
    ">>> for _ in range(5):\n",
    "...     fake.date()"
   ]
  },
  {
   "cell_type": "code",
   "execution_count": 33,
   "metadata": {},
   "outputs": [],
   "source": [
    "Faker.seed(0)\n",
    ">>> for _ in range(5):\n",
    "...     fake.first_name()"
   ]
  },
  {
   "cell_type": "code",
   "execution_count": null,
   "metadata": {},
   "outputs": [],
   "source": []
  },
  {
   "cell_type": "code",
   "execution_count": 34,
   "metadata": {},
   "outputs": [
    {
     "name": "stdout",
     "output_type": "stream",
     "text": [
      "                                job            company          ssn  \\\n",
      "0                   Ophthalmologist    Faulkner-Howard  224-65-2282   \n",
      "1   Producer, television/film/video      Carlson Group  325-74-3967   \n",
      "2            Advertising copywriter  Woodward and Sons  736-16-7852   \n",
      "3                 Film/video editor       Bell-Roberts  368-76-2169   \n",
      "4  Education officer, environmental      Alvarez Group  643-11-0358   \n",
      "\n",
      "                                           residence  \\\n",
      "0      489 Kyle Stream\\nPort Gabriellafort, OH 13700   \n",
      "1           09471 Erika Curve\\nNorth Megan, MH 92162   \n",
      "2            086 Mary Cliff\\nNorth Deborah, MI 57657   \n",
      "3  610 Holly Estate Apt. 376\\nJohnsonshire, MT 87296   \n",
      "4  42851 Joshua Brook Apt. 034\\nStaceyshire, PW 0...   \n",
      "\n",
      "            current_location blood_group  \\\n",
      "0      (4.970136, 53.094228)         AB-   \n",
      "1    (55.1161875, 30.075464)         AB+   \n",
      "2  (-41.596282, -147.228089)          O-   \n",
      "3  (-77.4426735, -91.053928)          O-   \n",
      "4    (73.100442, 171.844720)          O-   \n",
      "\n",
      "                                             website       username  \\\n",
      "0         [https://green.com/, http://summers.info/]    sallywalker   \n",
      "1             [http://hill.com/, http://wilson.com/]        laura56   \n",
      "2                               [http://green.info/]  meganpeterson   \n",
      "3                    [https://www.rose-freeman.net/]      zwilliams   \n",
      "4  [https://thompson.com/, http://morgan-richards...     turnermary   \n",
      "\n",
      "                 name sex                                            address  \\\n",
      "0   Frederick Harrell   M    711 Golden Overpass\\nWest Andreaville, OH 44115   \n",
      "1     Denise Thornton   F           30989 Anthony Roads\\nNew Maria, DE 51777   \n",
      "2  Christina Saunders   F  207 Mccullough Well Suite 564\\nNew Hannah, NH ...   \n",
      "3    Kathleen Collins   F      206 Stewart Forest\\nLake Karenhaven, RI 13317   \n",
      "4      Timothy Parker   M       87755 Timothy Squares\\nSimmonsport, MA 96806   \n",
      "\n",
      "                         mail   birthdate  \n",
      "0  tamaramorrison@hotmail.com  1946-08-01  \n",
      "1          woodtina@gmail.com  1989-11-03  \n",
      "2     rogersbrandon@yahoo.com  1925-10-13  \n",
      "3        davidbanks@yahoo.com  1945-07-16  \n",
      "4      samanthasims@yahoo.com  2017-02-22  \n"
     ]
    }
   ],
   "source": [
    "data = [fake.profile() for i in range(50)]\n",
    "data = pd.DataFrame(data)\n",
    "print(data.head())"
   ]
  }
 ],
 "metadata": {
  "kernelspec": {
   "display_name": "pythonProject",
   "language": "python",
   "name": "python3"
  },
  "language_info": {
   "codemirror_mode": {
    "name": "ipython",
    "version": 3
   },
   "file_extension": ".py",
   "mimetype": "text/x-python",
   "name": "python",
   "nbconvert_exporter": "python",
   "pygments_lexer": "ipython3",
   "version": "3.9.12"
  },
  "orig_nbformat": 4
 },
 "nbformat": 4,
 "nbformat_minor": 2
}
